{
 "cells": [
  {
   "cell_type": "code",
   "execution_count": 1,
   "id": "initial_id",
   "metadata": {
    "ExecuteTime": {
     "end_time": "2024-09-19T05:18:25.184593Z",
     "start_time": "2024-09-19T05:18:25.028323Z"
    }
   },
   "outputs": [
    {
     "name": "stdout",
     "output_type": "stream",
     "text": [
      "zsh:1: command not found: pip\n"
     ]
    }
   ],
   "source": [
    "!pip install numpy matplotlib networkx"
   ]
  },
  {
   "cell_type": "code",
   "execution_count": 2,
   "id": "a65804431f258425",
   "metadata": {
    "ExecuteTime": {
     "end_time": "2024-09-19T05:18:46.234376Z",
     "start_time": "2024-09-19T05:18:46.031659Z"
    }
   },
   "outputs": [
    {
     "ename": "ModuleNotFoundError",
     "evalue": "No module named 'numpy'",
     "output_type": "error",
     "traceback": [
      "\u001b[0;31m---------------------------------------------------------------------------\u001b[0m",
      "\u001b[0;31mModuleNotFoundError\u001b[0m                       Traceback (most recent call last)",
      "Cell \u001b[0;32mIn[2], line 1\u001b[0m\n\u001b[0;32m----> 1\u001b[0m \u001b[38;5;28;01mimport\u001b[39;00m \u001b[38;5;21;01mnumpy\u001b[39;00m \u001b[38;5;28;01mas\u001b[39;00m \u001b[38;5;21;01mnp\u001b[39;00m\n\u001b[1;32m      2\u001b[0m \u001b[38;5;28;01mimport\u001b[39;00m \u001b[38;5;21;01mmatplotlib\u001b[39;00m\u001b[38;5;21;01m.\u001b[39;00m\u001b[38;5;21;01mpyplot\u001b[39;00m \u001b[38;5;28;01mas\u001b[39;00m \u001b[38;5;21;01mplt\u001b[39;00m\n\u001b[1;32m      3\u001b[0m \u001b[38;5;28;01mimport\u001b[39;00m \u001b[38;5;21;01mnetworkx\u001b[39;00m \u001b[38;5;28;01mas\u001b[39;00m \u001b[38;5;21;01mnx\u001b[39;00m\n",
      "\u001b[0;31mModuleNotFoundError\u001b[0m: No module named 'numpy'"
     ]
    }
   ],
   "source": [
    "import numpy as np\n",
    "import matplotlib.pyplot as plt\n",
    "import networkx as nx\n",
    "import random\n",
    "\n",
    "def generar_nodos(n):\n",
    "    return np.random.rand(n, 2) * 100\n",
    "\n",
    "def calcular_distancia(nodo1, nodo2):\n",
    "    return np.linalg.norm(nodo1 - nodo2)\n",
    "\n",
    "def crear_matriz_distancias(nodos):\n",
    "    n = len(nodos)\n",
    "    matriz = np.zeros((n, n))\n",
    "    for i in range(n):\n",
    "        for j in range(n):\n",
    "            matriz[i, j] = calcular_distancia(nodos[i], nodos[j])\n",
    "    return matriz\n",
    "\n",
    "def geni_insertion(nodos, matriz_distancias):\n",
    "    recorrido = [0]\n",
    "    while len(recorrido) < len(nodos):\n",
    "        candidato = random.choice([i for i in range(len(nodos)) if i not in recorrido])\n",
    "        mejor_pos = None\n",
    "        mejor_aumento = float('inf')\n",
    "        for i in range(len(recorrido)):\n",
    "            j = (i + 1) % len(recorrido)\n",
    "            aumento = (matriz_distancias[recorrido[i], candidato] +\n",
    "                       matriz_distancias[candidato, recorrido[j]] -\n",
    "                       matriz_distancias[recorrido[i], recorrido[j]])\n",
    "            if aumento < mejor_aumento:\n",
    "                mejor_aumento = aumento\n",
    "                mejor_pos = i + 1\n",
    "        recorrido.insert(mejor_pos, candidato)\n",
    "    return recorrido\n",
    "\n",
    "def dibujar_ruta(nodos, ruta):\n",
    "    G = nx.Graph()\n",
    "    for i in range(len(ruta)):\n",
    "        G.add_edge(ruta[i], ruta[(i + 1) % len(ruta)])\n",
    "\n",
    "    pos = {i: nodos[i] for i in range(len(nodos))}\n",
    "\n",
    "    plt.figure(figsize=(8, 8))\n",
    "    nx.draw(G, pos, with_labels=True, node_color='lightblue', edge_color='gray', node_size=500, font_size=8)\n",
    "    plt.show()\n",
    "\n",
    "n_nodos = 100\n",
    "\n",
    "nodos = generar_nodos(n_nodos)\n",
    "matriz_distancias = crear_matriz_distancias(nodos)\n",
    "\n",
    "ruta = geni_insertion(nodos, matriz_distancias)\n",
    "\n",
    "dibujar_ruta(nodos, ruta)\n"
   ]
  },
  {
   "cell_type": "code",
   "execution_count": null,
   "id": "2b43a1946b02645f",
   "metadata": {},
   "outputs": [],
   "source": []
  }
 ],
 "metadata": {
  "kernelspec": {
   "display_name": "Python 3 (ipykernel)",
   "language": "python",
   "name": "python3"
  },
  "language_info": {
   "codemirror_mode": {
    "name": "ipython",
    "version": 3
   },
   "file_extension": ".py",
   "mimetype": "text/x-python",
   "name": "python",
   "nbconvert_exporter": "python",
   "pygments_lexer": "ipython3",
   "version": "3.9.6"
  }
 },
 "nbformat": 4,
 "nbformat_minor": 5
}
