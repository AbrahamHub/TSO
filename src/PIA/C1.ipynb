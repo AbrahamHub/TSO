{
 "cells": [
  {
   "cell_type": "code",
   "id": "initial_id",
   "metadata": {
    "id": "initial_id",
    "outputId": "25ab37c9-8b26-408f-e074-4e5bf6fb5402",
    "colab": {
     "base_uri": "https://localhost:8080/"
    }
   },
   "source": [
    "!pip install numpy matplotlib networkx"
   ],
   "outputs": [],
   "execution_count": null
  },
  {
   "cell_type": "markdown",
   "source": [
    "# **GENI**"
   ],
   "metadata": {
    "id": "qNAN5tUAJp1d"
   },
   "id": "qNAN5tUAJp1d"
  },
  {
   "cell_type": "code",
   "id": "a65804431f258425",
   "metadata": {
    "id": "a65804431f258425",
    "outputId": "2e4fcb67-e3df-4a82-bc6a-84641c22ce56",
    "colab": {
     "base_uri": "https://localhost:8080/",
     "height": 1000
    }
   },
   "source": [
    "import numpy as np\n",
    "import matplotlib.pyplot as plt\n",
    "import networkx as nx\n",
    "\n",
    "nodos_fijos = np.array([\n",
    "    [np.random.randint(0, 100), np.random.randint(0, 100)] for _ in range(200)\n",
    "])\n",
    "\n",
    "def calcular_distancia(nodo1, nodo2):\n",
    "    return np.linalg.norm(nodo1 - nodo2)\n",
    "\n",
    "def crear_matriz_distancias(nodos):\n",
    "    n = len(nodos)\n",
    "    matriz = np.zeros((n, n))\n",
    "    for i in range(n):\n",
    "        for j in range(n):\n",
    "            matriz[i, j] = calcular_distancia(nodos[i], nodos[j])\n",
    "    return matriz\n",
    "\n",
    "def geni_insertion(nodos, matriz_distancias):\n",
    "    recorrido = [0]\n",
    "    dibujar_ruta(nodos, recorrido)\n",
    "\n",
    "    while len(recorrido) < len(nodos):\n",
    "        candidato = min([i for i in range(len(nodos)) if i not in recorrido])\n",
    "        mejor_pos = None\n",
    "        mejor_aumento = float('inf')\n",
    "        for i in range(len(recorrido)):\n",
    "            j = (i + 1) % len(recorrido)\n",
    "            aumento = (matriz_distancias[recorrido[i], candidato] +\n",
    "                       matriz_distancias[candidato, recorrido[j]] -\n",
    "                       matriz_distancias[recorrido[i], recorrido[j]])\n",
    "            if aumento < mejor_aumento:\n",
    "                mejor_aumento = aumento\n",
    "                mejor_pos = i + 1\n",
    "        recorrido.insert(mejor_pos, candidato)\n",
    "        dibujar_ruta(nodos, recorrido)\n",
    "\n",
    "    return recorrido\n",
    "\n",
    "def dibujar_ruta(nodos, ruta):\n",
    "    G = nx.Graph()\n",
    "    for i in range(len(ruta)):\n",
    "        G.add_edge(ruta[i], ruta[(i + 1) % len(ruta)])\n",
    "\n",
    "    pos = {i: nodos[i] for i in range(len(nodos))}\n",
    "\n",
    "    plt.figure(figsize=(8, 8))\n",
    "    nx.draw(G, pos, with_labels=True, node_color='lightblue', edge_color='gray', node_size=300, font_size=6)\n",
    "    plt.show()\n",
    "\n",
    "matriz_distancias = crear_matriz_distancias(nodos_fijos)\n",
    "\n",
    "ruta = geni_insertion(nodos_fijos, matriz_distancias)\n"
   ],
   "outputs": [],
   "execution_count": null
  },
  {
   "cell_type": "markdown",
   "source": [
    "# GENIUS"
   ],
   "metadata": {
    "id": "wN60TGySKGVT"
   },
   "id": "wN60TGySKGVT"
  },
  {
   "cell_type": "code",
   "source": [
    "import numpy as np\n",
    "import matplotlib.pyplot as plt\n",
    "import networkx as nx\n",
    "\n",
    "nodos_fijos = np.array([\n",
    "    [np.random.randint(0, 100), np.random.randint(0, 100)] for _ in range(10) #n\n",
    "])\n",
    "\n",
    "def calcular_distancia(nodo1, nodo2):\n",
    "    return np.linalg.norm(nodo1 - nodo2) #euclidiana con norma .linalg.norm dif(x1-x2)^2 sqrt\n",
    "\n",
    "def crear_matriz_distancias(nodos):\n",
    "    n = len(nodos)\n",
    "    matriz = np.zeros((n, n))\n",
    "    for i in range(n):\n",
    "        for j in range(n):\n",
    "            matriz[i, j] = calcular_distancia(nodos[i], nodos[j])\n",
    "    return matriz\n",
    "\n",
    "def geni_insertion(nodos, matriz_distancias):\n",
    "    recorrido = [0]\n",
    "    dibujar_ruta(nodos, recorrido, None, 0)\n",
    "\n",
    "    iteracion = 1\n",
    "    nodo_anterior = None\n",
    "\n",
    "    while len(recorrido) < len(nodos):\n",
    "        candidato = min([i for i in range(len(nodos)) if i not in recorrido])\n",
    "        mejor_pos = None\n",
    "        mejor_aumento = float('inf')\n",
    "        # Insertar el candidato en la mejor posición\n",
    "        for i in range(len(recorrido)):\n",
    "            j = (i + 1) % len(recorrido)\n",
    "            aumento = (matriz_distancias[recorrido[i], candidato] +\n",
    "                       matriz_distancias[candidato, recorrido[j]] -\n",
    "                       matriz_distancias[recorrido[i], recorrido[j]])\n",
    "            if aumento < mejor_aumento:\n",
    "                mejor_aumento = aumento\n",
    "                mejor_pos = i + 1\n",
    "        recorrido.insert(mejor_pos, candidato)\n",
    "        dibujar_ruta(nodos, recorrido, candidato, iteracion)  # Mostrar la ruta en cada inserción\n",
    "\n",
    "        nodo_anterior = candidato\n",
    "        iteracion += 1\n",
    "\n",
    "    return recorrido\n",
    "\n",
    "# US\n",
    "def us_post_optimization(nodos, matriz_distancias, ruta, p=6):\n",
    "    iteracion = len(ruta) + 1\n",
    "    for _ in range(2):  # Iterar n veces para mayor optimización (Vueltas)\n",
    "        for i in range(1, len(ruta) - 1):\n",
    "            nodo = ruta.pop(i)  # Eliminar el nodo actual del ciclo\n",
    "            mejor_pos = None\n",
    "            mejor_aumento = float('inf')\n",
    "\n",
    "            # Considerar p vecinos más cercanos\n",
    "            vecinos = sorted(range(len(nodos)), key=lambda x: matriz_distancias[nodo, x])[:p]\n",
    "\n",
    "            for j in range(len(ruta)):\n",
    "                aumento = (matriz_distancias[ruta[j], nodo] +\n",
    "                           matriz_distancias[nodo, ruta[(j + 1) % len(ruta)]] -\n",
    "                           matriz_distancias[ruta[j], ruta[(j + 1) % len(ruta)]])\n",
    "                if aumento < mejor_aumento:\n",
    "                    mejor_aumento = aumento\n",
    "                    mejor_pos = j + 1\n",
    "            ruta.insert(mejor_pos, nodo)  # Reinsertar el nodo\n",
    "            dibujar_ruta(nodos, ruta, nodo, iteracion)  # ruta actualizada\n",
    "            iteracion += 1\n",
    "\n",
    "    return ruta\n",
    "\n",
    "def dibujar_ruta(nodos, ruta, nodo_resaltado, iteracion):\n",
    "    G = nx.Graph()\n",
    "    for i in range(len(ruta)):\n",
    "        G.add_edge(ruta[i], ruta[(i + 1) % len(ruta)])  # Conectar nodos\n",
    "\n",
    "    pos = {i: nodos[i] for i in range(len(nodos))}  # Posiciones de los nodos\n",
    "\n",
    "    plt.figure(figsize=(8, 8))\n",
    "    nx.draw(G, pos, with_labels=True, node_color='lightblue', edge_color='gray', node_size=300, font_size=6)\n",
    "\n",
    "    # Resaltar el nodo reciente\n",
    "    if nodo_resaltado is not None:\n",
    "        nx.draw_networkx_nodes(G, pos, nodelist=[nodo_resaltado], node_color='red', node_size=500)\n",
    "\n",
    "    plt.title(f\"Iteración: {iteracion}\")\n",
    "    plt.show()\n",
    "\n",
    "matriz_distancias = crear_matriz_distancias(nodos_fijos)\n",
    "\n",
    "ruta = geni_insertion(nodos_fijos, matriz_distancias)\n",
    "\n",
    "ruta_optimizada = us_post_optimization(nodos_fijos, matriz_distancias, ruta, p=6) #:=)\n"
   ],
   "metadata": {
    "id": "6tnFqtXLKJ4K",
    "outputId": "9e115dc6-14c6-4365-e10b-28622205e1f8",
    "colab": {
     "base_uri": "https://localhost:8080/",
     "height": 1000
    }
   },
   "id": "6tnFqtXLKJ4K",
   "outputs": [],
   "execution_count": null
  }
 ],
 "metadata": {
  "kernelspec": {
   "display_name": "Python 3 (ipykernel)",
   "language": "python",
   "name": "python3"
  },
  "language_info": {
   "codemirror_mode": {
    "name": "ipython",
    "version": 3
   },
   "file_extension": ".py",
   "mimetype": "text/x-python",
   "name": "python",
   "nbconvert_exporter": "python",
   "pygments_lexer": "ipython3",
   "version": "3.9.6"
  },
  "colab": {
   "provenance": []
  }
 },
 "nbformat": 4,
 "nbformat_minor": 5
}
